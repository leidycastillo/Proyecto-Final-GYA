{
  "nbformat": 4,
  "nbformat_minor": 0,
  "metadata": {
    "colab": {
      "provenance": []
    },
    "kernelspec": {
      "name": "python3",
      "display_name": "Python 3"
    },
    "language_info": {
      "name": "python"
    }
  },
  "cells": [
    {
      "cell_type": "code",
      "execution_count": 18,
      "metadata": {
        "id": "4OuJqPS4Kne2"
      },
      "outputs": [],
      "source": [
        "import pandas as pd\n",
        "import sqlite3\n",
        "import gdown"
      ]
    },
    {
      "cell_type": "code",
      "source": [
        "file_id = '1ocaBTiYrKkfnzsZoWtOpre5PV3X5R1ts'\n",
        "download_url = f'https://drive.google.com/uc?export=download&id={file_id}'\n",
        "\n",
        "gdown.download(download_url, 'Dataframe-camiones-limpio.txt', quiet=False)"
      ],
      "metadata": {
        "colab": {
          "base_uri": "https://localhost:8080/",
          "height": 122
        },
        "id": "n8ntxc3tTx0i",
        "outputId": "3bb5ba12-72d1-4272-fb1c-b00e7cb3b520"
      },
      "execution_count": 19,
      "outputs": [
        {
          "output_type": "stream",
          "name": "stderr",
          "text": [
            "Downloading...\n",
            "From (original): https://drive.google.com/uc?export=download&id=1ocaBTiYrKkfnzsZoWtOpre5PV3X5R1ts\n",
            "From (redirected): https://drive.google.com/uc?export=download&id=1ocaBTiYrKkfnzsZoWtOpre5PV3X5R1ts&confirm=t&uuid=fbecdc54-2fbc-451c-9206-f3d18a22d694\n",
            "To: /content/Dataframe-camiones-limpio.txt\n",
            "100%|██████████| 171M/171M [00:02<00:00, 63.3MB/s]\n"
          ]
        },
        {
          "output_type": "execute_result",
          "data": {
            "text/plain": [
              "'Dataframe-camiones-limpio.txt'"
            ],
            "application/vnd.google.colaboratory.intrinsic+json": {
              "type": "string"
            }
          },
          "metadata": {},
          "execution_count": 19
        }
      ]
    },
    {
      "cell_type": "code",
      "source": [
        "df = pd.read_csv('Dataframe-camiones-limpio.txt', delimiter='|', encoding='latin-1')\n",
        "df.sample(3)"
      ],
      "metadata": {
        "colab": {
          "base_uri": "https://localhost:8080/",
          "height": 349
        },
        "id": "1gIY35cxT3h7",
        "outputId": "08bc84ca-88c4-4f25-ac70-058b64e6b117"
      },
      "execution_count": 20,
      "outputs": [
        {
          "output_type": "execute_result",
          "data": {
            "text/plain": [
              "          NATURALEZA  COD_PRODUCTO  \\\n",
              "425609  Carga Normal          1511   \n",
              "119200  Carga Normal          9980   \n",
              "271714  Carga Normal          7325   \n",
              "\n",
              "                                                 PRODUCTO  CANTIDAD  \\\n",
              "425609  GRASAS Y ACEITES ANIMALES O VEGETALES; PRODUCT...    3450.0   \n",
              "119200                            VARIOS PRODUCTOS VARIOS    9000.0   \n",
              "271714  MANUFACTURAS DE FUNDICIÓN; DE HIERRO O DE ACER...   29000.0   \n",
              "\n",
              "       UNID_MEDIDA  CODIGO_CARGUE               CARGUE  CODIGO_DESCARGUE  \\\n",
              "425609  Kilogramos       47053000  ARACATACA MAGDALENA          47001000   \n",
              "119200  Kilogramos       68307000      GIRON SANTANDER          68077000   \n",
              "271714  Kilogramos       13001000    CARTAGENA BOLIVAR          23678000   \n",
              "\n",
              "                    DESCARGUE  HORAS_VIAJE  ...  VALOR_PACTADO  VALOR_PAGADO  \\\n",
              "425609  SANTA MARTA MAGDALENA        28.00  ...            0.0           0.0   \n",
              "119200      BARBOSA SANTANDER        23.00  ...       900000.0      900000.0   \n",
              "271714     SAN CARLOS CORDOBA        20.27  ...      2800000.0     2800000.0   \n",
              "\n",
              "        CANTIDAD_REMESAS_VIAJE  EMPRESA_TRANSPORTE   PLACA  CONFIGURACION  \\\n",
              "425609                       1                1036  100497            3S3   \n",
              "119200                       1                 391  269641              2   \n",
              "271714                       1                2148  346044            3S3   \n",
              "\n",
              "        CONDUCTOR  GPS         FECHA_SALIDA        FECHA_LLEGADA  \n",
              "425609     316168    0  2023-01-26 15:00:00  2023-01-27 19:00:00  \n",
              "119200     128453    0  2023-01-11 09:00:00  2023-01-12 08:00:00  \n",
              "271714     175825    0  2023-01-31 15:00:00  2023-02-01 11:16:00  \n",
              "\n",
              "[3 rows x 24 columns]"
            ],
            "text/html": [
              "\n",
              "  <div id=\"df-3fd993f6-ac9b-4058-a0d7-44f2558ba350\" class=\"colab-df-container\">\n",
              "    <div>\n",
              "<style scoped>\n",
              "    .dataframe tbody tr th:only-of-type {\n",
              "        vertical-align: middle;\n",
              "    }\n",
              "\n",
              "    .dataframe tbody tr th {\n",
              "        vertical-align: top;\n",
              "    }\n",
              "\n",
              "    .dataframe thead th {\n",
              "        text-align: right;\n",
              "    }\n",
              "</style>\n",
              "<table border=\"1\" class=\"dataframe\">\n",
              "  <thead>\n",
              "    <tr style=\"text-align: right;\">\n",
              "      <th></th>\n",
              "      <th>NATURALEZA</th>\n",
              "      <th>COD_PRODUCTO</th>\n",
              "      <th>PRODUCTO</th>\n",
              "      <th>CANTIDAD</th>\n",
              "      <th>UNID_MEDIDA</th>\n",
              "      <th>CODIGO_CARGUE</th>\n",
              "      <th>CARGUE</th>\n",
              "      <th>CODIGO_DESCARGUE</th>\n",
              "      <th>DESCARGUE</th>\n",
              "      <th>HORAS_VIAJE</th>\n",
              "      <th>...</th>\n",
              "      <th>VALOR_PACTADO</th>\n",
              "      <th>VALOR_PAGADO</th>\n",
              "      <th>CANTIDAD_REMESAS_VIAJE</th>\n",
              "      <th>EMPRESA_TRANSPORTE</th>\n",
              "      <th>PLACA</th>\n",
              "      <th>CONFIGURACION</th>\n",
              "      <th>CONDUCTOR</th>\n",
              "      <th>GPS</th>\n",
              "      <th>FECHA_SALIDA</th>\n",
              "      <th>FECHA_LLEGADA</th>\n",
              "    </tr>\n",
              "  </thead>\n",
              "  <tbody>\n",
              "    <tr>\n",
              "      <th>425609</th>\n",
              "      <td>Carga Normal</td>\n",
              "      <td>1511</td>\n",
              "      <td>GRASAS Y ACEITES ANIMALES O VEGETALES; PRODUCT...</td>\n",
              "      <td>3450.0</td>\n",
              "      <td>Kilogramos</td>\n",
              "      <td>47053000</td>\n",
              "      <td>ARACATACA MAGDALENA</td>\n",
              "      <td>47001000</td>\n",
              "      <td>SANTA MARTA MAGDALENA</td>\n",
              "      <td>28.00</td>\n",
              "      <td>...</td>\n",
              "      <td>0.0</td>\n",
              "      <td>0.0</td>\n",
              "      <td>1</td>\n",
              "      <td>1036</td>\n",
              "      <td>100497</td>\n",
              "      <td>3S3</td>\n",
              "      <td>316168</td>\n",
              "      <td>0</td>\n",
              "      <td>2023-01-26 15:00:00</td>\n",
              "      <td>2023-01-27 19:00:00</td>\n",
              "    </tr>\n",
              "    <tr>\n",
              "      <th>119200</th>\n",
              "      <td>Carga Normal</td>\n",
              "      <td>9980</td>\n",
              "      <td>VARIOS PRODUCTOS VARIOS</td>\n",
              "      <td>9000.0</td>\n",
              "      <td>Kilogramos</td>\n",
              "      <td>68307000</td>\n",
              "      <td>GIRON SANTANDER</td>\n",
              "      <td>68077000</td>\n",
              "      <td>BARBOSA SANTANDER</td>\n",
              "      <td>23.00</td>\n",
              "      <td>...</td>\n",
              "      <td>900000.0</td>\n",
              "      <td>900000.0</td>\n",
              "      <td>1</td>\n",
              "      <td>391</td>\n",
              "      <td>269641</td>\n",
              "      <td>2</td>\n",
              "      <td>128453</td>\n",
              "      <td>0</td>\n",
              "      <td>2023-01-11 09:00:00</td>\n",
              "      <td>2023-01-12 08:00:00</td>\n",
              "    </tr>\n",
              "    <tr>\n",
              "      <th>271714</th>\n",
              "      <td>Carga Normal</td>\n",
              "      <td>7325</td>\n",
              "      <td>MANUFACTURAS DE FUNDICIÓN; DE HIERRO O DE ACER...</td>\n",
              "      <td>29000.0</td>\n",
              "      <td>Kilogramos</td>\n",
              "      <td>13001000</td>\n",
              "      <td>CARTAGENA BOLIVAR</td>\n",
              "      <td>23678000</td>\n",
              "      <td>SAN CARLOS CORDOBA</td>\n",
              "      <td>20.27</td>\n",
              "      <td>...</td>\n",
              "      <td>2800000.0</td>\n",
              "      <td>2800000.0</td>\n",
              "      <td>1</td>\n",
              "      <td>2148</td>\n",
              "      <td>346044</td>\n",
              "      <td>3S3</td>\n",
              "      <td>175825</td>\n",
              "      <td>0</td>\n",
              "      <td>2023-01-31 15:00:00</td>\n",
              "      <td>2023-02-01 11:16:00</td>\n",
              "    </tr>\n",
              "  </tbody>\n",
              "</table>\n",
              "<p>3 rows × 24 columns</p>\n",
              "</div>\n",
              "    <div class=\"colab-df-buttons\">\n",
              "\n",
              "  <div class=\"colab-df-container\">\n",
              "    <button class=\"colab-df-convert\" onclick=\"convertToInteractive('df-3fd993f6-ac9b-4058-a0d7-44f2558ba350')\"\n",
              "            title=\"Convert this dataframe to an interactive table.\"\n",
              "            style=\"display:none;\">\n",
              "\n",
              "  <svg xmlns=\"http://www.w3.org/2000/svg\" height=\"24px\" viewBox=\"0 -960 960 960\">\n",
              "    <path d=\"M120-120v-720h720v720H120Zm60-500h600v-160H180v160Zm220 220h160v-160H400v160Zm0 220h160v-160H400v160ZM180-400h160v-160H180v160Zm440 0h160v-160H620v160ZM180-180h160v-160H180v160Zm440 0h160v-160H620v160Z\"/>\n",
              "  </svg>\n",
              "    </button>\n",
              "\n",
              "  <style>\n",
              "    .colab-df-container {\n",
              "      display:flex;\n",
              "      gap: 12px;\n",
              "    }\n",
              "\n",
              "    .colab-df-convert {\n",
              "      background-color: #E8F0FE;\n",
              "      border: none;\n",
              "      border-radius: 50%;\n",
              "      cursor: pointer;\n",
              "      display: none;\n",
              "      fill: #1967D2;\n",
              "      height: 32px;\n",
              "      padding: 0 0 0 0;\n",
              "      width: 32px;\n",
              "    }\n",
              "\n",
              "    .colab-df-convert:hover {\n",
              "      background-color: #E2EBFA;\n",
              "      box-shadow: 0px 1px 2px rgba(60, 64, 67, 0.3), 0px 1px 3px 1px rgba(60, 64, 67, 0.15);\n",
              "      fill: #174EA6;\n",
              "    }\n",
              "\n",
              "    .colab-df-buttons div {\n",
              "      margin-bottom: 4px;\n",
              "    }\n",
              "\n",
              "    [theme=dark] .colab-df-convert {\n",
              "      background-color: #3B4455;\n",
              "      fill: #D2E3FC;\n",
              "    }\n",
              "\n",
              "    [theme=dark] .colab-df-convert:hover {\n",
              "      background-color: #434B5C;\n",
              "      box-shadow: 0px 1px 3px 1px rgba(0, 0, 0, 0.15);\n",
              "      filter: drop-shadow(0px 1px 2px rgba(0, 0, 0, 0.3));\n",
              "      fill: #FFFFFF;\n",
              "    }\n",
              "  </style>\n",
              "\n",
              "    <script>\n",
              "      const buttonEl =\n",
              "        document.querySelector('#df-3fd993f6-ac9b-4058-a0d7-44f2558ba350 button.colab-df-convert');\n",
              "      buttonEl.style.display =\n",
              "        google.colab.kernel.accessAllowed ? 'block' : 'none';\n",
              "\n",
              "      async function convertToInteractive(key) {\n",
              "        const element = document.querySelector('#df-3fd993f6-ac9b-4058-a0d7-44f2558ba350');\n",
              "        const dataTable =\n",
              "          await google.colab.kernel.invokeFunction('convertToInteractive',\n",
              "                                                    [key], {});\n",
              "        if (!dataTable) return;\n",
              "\n",
              "        const docLinkHtml = 'Like what you see? Visit the ' +\n",
              "          '<a target=\"_blank\" href=https://colab.research.google.com/notebooks/data_table.ipynb>data table notebook</a>'\n",
              "          + ' to learn more about interactive tables.';\n",
              "        element.innerHTML = '';\n",
              "        dataTable['output_type'] = 'display_data';\n",
              "        await google.colab.output.renderOutput(dataTable, element);\n",
              "        const docLink = document.createElement('div');\n",
              "        docLink.innerHTML = docLinkHtml;\n",
              "        element.appendChild(docLink);\n",
              "      }\n",
              "    </script>\n",
              "  </div>\n",
              "\n",
              "\n",
              "<div id=\"df-60be1d9b-5b67-4c6a-af5f-60436aacebbb\">\n",
              "  <button class=\"colab-df-quickchart\" onclick=\"quickchart('df-60be1d9b-5b67-4c6a-af5f-60436aacebbb')\"\n",
              "            title=\"Suggest charts\"\n",
              "            style=\"display:none;\">\n",
              "\n",
              "<svg xmlns=\"http://www.w3.org/2000/svg\" height=\"24px\"viewBox=\"0 0 24 24\"\n",
              "     width=\"24px\">\n",
              "    <g>\n",
              "        <path d=\"M19 3H5c-1.1 0-2 .9-2 2v14c0 1.1.9 2 2 2h14c1.1 0 2-.9 2-2V5c0-1.1-.9-2-2-2zM9 17H7v-7h2v7zm4 0h-2V7h2v10zm4 0h-2v-4h2v4z\"/>\n",
              "    </g>\n",
              "</svg>\n",
              "  </button>\n",
              "\n",
              "<style>\n",
              "  .colab-df-quickchart {\n",
              "      --bg-color: #E8F0FE;\n",
              "      --fill-color: #1967D2;\n",
              "      --hover-bg-color: #E2EBFA;\n",
              "      --hover-fill-color: #174EA6;\n",
              "      --disabled-fill-color: #AAA;\n",
              "      --disabled-bg-color: #DDD;\n",
              "  }\n",
              "\n",
              "  [theme=dark] .colab-df-quickchart {\n",
              "      --bg-color: #3B4455;\n",
              "      --fill-color: #D2E3FC;\n",
              "      --hover-bg-color: #434B5C;\n",
              "      --hover-fill-color: #FFFFFF;\n",
              "      --disabled-bg-color: #3B4455;\n",
              "      --disabled-fill-color: #666;\n",
              "  }\n",
              "\n",
              "  .colab-df-quickchart {\n",
              "    background-color: var(--bg-color);\n",
              "    border: none;\n",
              "    border-radius: 50%;\n",
              "    cursor: pointer;\n",
              "    display: none;\n",
              "    fill: var(--fill-color);\n",
              "    height: 32px;\n",
              "    padding: 0;\n",
              "    width: 32px;\n",
              "  }\n",
              "\n",
              "  .colab-df-quickchart:hover {\n",
              "    background-color: var(--hover-bg-color);\n",
              "    box-shadow: 0 1px 2px rgba(60, 64, 67, 0.3), 0 1px 3px 1px rgba(60, 64, 67, 0.15);\n",
              "    fill: var(--button-hover-fill-color);\n",
              "  }\n",
              "\n",
              "  .colab-df-quickchart-complete:disabled,\n",
              "  .colab-df-quickchart-complete:disabled:hover {\n",
              "    background-color: var(--disabled-bg-color);\n",
              "    fill: var(--disabled-fill-color);\n",
              "    box-shadow: none;\n",
              "  }\n",
              "\n",
              "  .colab-df-spinner {\n",
              "    border: 2px solid var(--fill-color);\n",
              "    border-color: transparent;\n",
              "    border-bottom-color: var(--fill-color);\n",
              "    animation:\n",
              "      spin 1s steps(1) infinite;\n",
              "  }\n",
              "\n",
              "  @keyframes spin {\n",
              "    0% {\n",
              "      border-color: transparent;\n",
              "      border-bottom-color: var(--fill-color);\n",
              "      border-left-color: var(--fill-color);\n",
              "    }\n",
              "    20% {\n",
              "      border-color: transparent;\n",
              "      border-left-color: var(--fill-color);\n",
              "      border-top-color: var(--fill-color);\n",
              "    }\n",
              "    30% {\n",
              "      border-color: transparent;\n",
              "      border-left-color: var(--fill-color);\n",
              "      border-top-color: var(--fill-color);\n",
              "      border-right-color: var(--fill-color);\n",
              "    }\n",
              "    40% {\n",
              "      border-color: transparent;\n",
              "      border-right-color: var(--fill-color);\n",
              "      border-top-color: var(--fill-color);\n",
              "    }\n",
              "    60% {\n",
              "      border-color: transparent;\n",
              "      border-right-color: var(--fill-color);\n",
              "    }\n",
              "    80% {\n",
              "      border-color: transparent;\n",
              "      border-right-color: var(--fill-color);\n",
              "      border-bottom-color: var(--fill-color);\n",
              "    }\n",
              "    90% {\n",
              "      border-color: transparent;\n",
              "      border-bottom-color: var(--fill-color);\n",
              "    }\n",
              "  }\n",
              "</style>\n",
              "\n",
              "  <script>\n",
              "    async function quickchart(key) {\n",
              "      const quickchartButtonEl =\n",
              "        document.querySelector('#' + key + ' button');\n",
              "      quickchartButtonEl.disabled = true;  // To prevent multiple clicks.\n",
              "      quickchartButtonEl.classList.add('colab-df-spinner');\n",
              "      try {\n",
              "        const charts = await google.colab.kernel.invokeFunction(\n",
              "            'suggestCharts', [key], {});\n",
              "      } catch (error) {\n",
              "        console.error('Error during call to suggestCharts:', error);\n",
              "      }\n",
              "      quickchartButtonEl.classList.remove('colab-df-spinner');\n",
              "      quickchartButtonEl.classList.add('colab-df-quickchart-complete');\n",
              "    }\n",
              "    (() => {\n",
              "      let quickchartButtonEl =\n",
              "        document.querySelector('#df-60be1d9b-5b67-4c6a-af5f-60436aacebbb button');\n",
              "      quickchartButtonEl.style.display =\n",
              "        google.colab.kernel.accessAllowed ? 'block' : 'none';\n",
              "    })();\n",
              "  </script>\n",
              "</div>\n",
              "\n",
              "    </div>\n",
              "  </div>\n"
            ],
            "application/vnd.google.colaboratory.intrinsic+json": {
              "type": "dataframe"
            }
          },
          "metadata": {},
          "execution_count": 20
        }
      ]
    },
    {
      "cell_type": "code",
      "source": [
        "df.info()"
      ],
      "metadata": {
        "colab": {
          "base_uri": "https://localhost:8080/"
        },
        "id": "z5dA63NCfwep",
        "outputId": "0c4838a0-ba4d-4850-aadc-e84f6ea06fd9"
      },
      "execution_count": 21,
      "outputs": [
        {
          "output_type": "stream",
          "name": "stdout",
          "text": [
            "<class 'pandas.core.frame.DataFrame'>\n",
            "RangeIndex: 562090 entries, 0 to 562089\n",
            "Data columns (total 24 columns):\n",
            " #   Column                  Non-Null Count   Dtype  \n",
            "---  ------                  --------------   -----  \n",
            " 0   NATURALEZA              562090 non-null  object \n",
            " 1   COD_PRODUCTO            562090 non-null  int64  \n",
            " 2   PRODUCTO                562090 non-null  object \n",
            " 3   CANTIDAD                562090 non-null  float64\n",
            " 4   UNID_MEDIDA             562090 non-null  object \n",
            " 5   CODIGO_CARGUE           562090 non-null  int64  \n",
            " 6   CARGUE                  562090 non-null  object \n",
            " 7   CODIGO_DESCARGUE        562090 non-null  int64  \n",
            " 8   DESCARGUE               562090 non-null  object \n",
            " 9   HORAS_VIAJE             562090 non-null  float64\n",
            " 10  HORAS_ESPERA_CARGUE     562090 non-null  float64\n",
            " 11  HORAS_CARGUE            562090 non-null  float64\n",
            " 12  HORAS_ESPERA_DESCARGUE  562090 non-null  float64\n",
            " 13  HORAS_DESCARGUE         562090 non-null  float64\n",
            " 14  VALOR_PACTADO           562090 non-null  float64\n",
            " 15  VALOR_PAGADO            562090 non-null  float64\n",
            " 16  CANTIDAD_REMESAS_VIAJE  562090 non-null  int64  \n",
            " 17  EMPRESA_TRANSPORTE      562090 non-null  int64  \n",
            " 18  PLACA                   562090 non-null  int64  \n",
            " 19  CONFIGURACION           562090 non-null  object \n",
            " 20  CONDUCTOR               562090 non-null  int64  \n",
            " 21  GPS                     562090 non-null  int64  \n",
            " 22  FECHA_SALIDA            562090 non-null  object \n",
            " 23  FECHA_LLEGADA           562090 non-null  object \n",
            "dtypes: float64(8), int64(8), object(8)\n",
            "memory usage: 102.9+ MB\n"
          ]
        }
      ]
    },
    {
      "cell_type": "code",
      "source": [
        "conn = sqlite3.connect('camiones.db')\n",
        "\n",
        "df.to_sql('tabla_camiones', conn, if_exists='replace', index=False)\n",
        "\n",
        "conn.commit()\n",
        "conn.close()"
      ],
      "metadata": {
        "id": "eRTdlNKZWqHj"
      },
      "execution_count": 22,
      "outputs": []
    },
    {
      "cell_type": "code",
      "source": [
        "conn = sqlite3.connect('camiones.db')\n",
        "query = \"SELECT * FROM tabla_camiones LIMIT 5\"\n",
        "df_sql = pd.read_sql(query, conn)\n",
        "\n",
        "print(df_sql)"
      ],
      "metadata": {
        "colab": {
          "base_uri": "https://localhost:8080/"
        },
        "id": "miIhb65aWwjI",
        "outputId": "553a1f62-f811-4dd3-d0c2-db870c165978"
      },
      "execution_count": 23,
      "outputs": [
        {
          "output_type": "stream",
          "name": "stdout",
          "text": [
            "     NATURALEZA  COD_PRODUCTO  \\\n",
            "0  Carga Normal          7323   \n",
            "1  Carga Normal          7323   \n",
            "2  Carga Normal          7323   \n",
            "3  Carga Normal          7323   \n",
            "4  Carga Normal          7323   \n",
            "\n",
            "                                            PRODUCTO  CANTIDAD UNID_MEDIDA  \\\n",
            "0  MANUFACTURAS DE FUNDICIÓN DE HIERRO O DE ACERO...    7000.0  Kilogramos   \n",
            "1  MANUFACTURAS DE FUNDICIÓN DE HIERRO O DE ACERO...    7000.0  Kilogramos   \n",
            "2  MANUFACTURAS DE FUNDICIÓN DE HIERRO O DE ACERO...    7000.0  Kilogramos   \n",
            "3  MANUFACTURAS DE FUNDICIÓN DE HIERRO O DE ACERO...    7000.0  Kilogramos   \n",
            "4  MANUFACTURAS DE FUNDICIÓN DE HIERRO O DE ACERO...    7000.0  Kilogramos   \n",
            "\n",
            "   CODIGO_CARGUE                        CARGUE  CODIGO_DESCARGUE  \\\n",
            "0       76109000  BUENAVENTURA VALLE DEL CAUCA          76520000   \n",
            "1       76109000  BUENAVENTURA VALLE DEL CAUCA          76520000   \n",
            "2       76109000  BUENAVENTURA VALLE DEL CAUCA          76520000   \n",
            "3       76109000  BUENAVENTURA VALLE DEL CAUCA          76520000   \n",
            "4       76109000  BUENAVENTURA VALLE DEL CAUCA          76520000   \n",
            "\n",
            "                 DESCARGUE  HORAS_VIAJE  ...  VALOR_PACTADO  VALOR_PAGADO  \\\n",
            "0  PALMIRA VALLE DEL CAUCA        10.45  ...            0.0           0.0   \n",
            "1  PALMIRA VALLE DEL CAUCA        10.25  ...            0.0           0.0   \n",
            "2  PALMIRA VALLE DEL CAUCA        10.62  ...            0.0           0.0   \n",
            "3  PALMIRA VALLE DEL CAUCA        10.15  ...            0.0           0.0   \n",
            "4  PALMIRA VALLE DEL CAUCA        10.25  ...            0.0           0.0   \n",
            "\n",
            "   CANTIDAD_REMESAS_VIAJE  EMPRESA_TRANSPORTE    PLACA  CONFIGURACION  \\\n",
            "0                       1                2148  1400733            2S2   \n",
            "1                       1                2148  1400733            2S3   \n",
            "2                       1                2148  1400733            2S3   \n",
            "3                       1                2148  1400733            2S2   \n",
            "4                       1                2148  1400733            2S3   \n",
            "\n",
            "   CONDUCTOR  GPS         FECHA_SALIDA        FECHA_LLEGADA  \n",
            "0         45    0  2023-01-02 17:00:00  2023-01-03 03:27:00  \n",
            "1         45    0  2023-01-05 17:00:00  2023-01-06 03:15:00  \n",
            "2         45    0  2023-01-07 17:00:00  2023-01-08 03:37:00  \n",
            "3         45    0  2023-01-11 17:00:00  2023-01-12 03:09:00  \n",
            "4         45    0  2023-01-07 17:00:00  2023-01-08 03:15:00  \n",
            "\n",
            "[5 rows x 24 columns]\n"
          ]
        }
      ]
    },
    {
      "cell_type": "code",
      "source": [
        "conn.execute('''\n",
        "    CREATE TABLE IF NOT EXISTS Productos (\n",
        "        COD_PRODUCTO INT PRIMARY KEY,\n",
        "        DESCRIPCION TEXT\n",
        "    )\n",
        "''')\n",
        "\n",
        "productos_df = df[['COD_PRODUCTO', 'PRODUCTO']].drop_duplicates()\n",
        "productos_df.rename(columns={'PRODUCTO': 'DESCRIPCION'}, inplace=True)\n",
        "productos_df.to_sql('Productos', conn, if_exists='replace', index=False)\n",
        "\n",
        "conn.commit()\n",
        "conn.close()"
      ],
      "metadata": {
        "id": "o1rwyWrtZoeu"
      },
      "execution_count": 24,
      "outputs": []
    },
    {
      "cell_type": "code",
      "source": [
        "conn = sqlite3.connect('camiones.db')\n",
        "\n",
        "query = 'SELECT * FROM Productos LIMIT 15;'\n",
        "result = conn.execute(query)\n",
        "\n",
        "productos_df = pd.DataFrame(result.fetchall(), columns=[column[0] for column in result.description])\n",
        "\n",
        "conn.close()\n",
        "print(productos_df)"
      ],
      "metadata": {
        "colab": {
          "base_uri": "https://localhost:8080/"
        },
        "id": "KLwwh3zZcPx7",
        "outputId": "a71e0a48-1540-46f7-8f86-ef2bddcc154f"
      },
      "execution_count": 25,
      "outputs": [
        {
          "output_type": "stream",
          "name": "stdout",
          "text": [
            "    COD_PRODUCTO                                        DESCRIPCION\n",
            "0           7323  MANUFACTURAS DE FUNDICIÓN DE HIERRO O DE ACERO...\n",
            "1           1511  GRASAS Y ACEITES ANIMALES O VEGETALES; PRODUCT...\n",
            "2           1703  AZÚCARES Y ARTÍCULOS DE CONFITERÍA; MELAZA DE ...\n",
            "3           1507  GRASAS Y ACEITES ANIMALES O VEGETALES; PRODUCT...\n",
            "4           9880  OTROS MISCELANEOS CONTENIDOS EN PAQUETES ( PAQ...\n",
            "5           9980                            VARIOS PRODUCTOS VARIOS\n",
            "6           9403  MUEBLES; MOBILIARIO MEDICOQUIRÚRGICO; ARTÍCULO...\n",
            "7           2704  COMBUSTIBLES MINERALES; ACEITES MINERALES Y PR...\n",
            "8           3101  ABONOS; ABONOS DE ORIGEN ANIMAL O VEGETAL;  IN...\n",
            "9           1005                                     CEREALES; MAIZ\n",
            "10          8525  MÁQUINA; APARATOS Y MATERIAL ELÉCTRICO Y SUS P...\n",
            "11          8547  MÁQUINA; APARATOS Y MATERIAL ELÉCTRICO Y SUS P...\n",
            "12          9800  OTROS CONJUNTOS INDUSTRIALES EXPORTADOS DE CON...\n",
            "13          9990                            VARIOS CONTENEDOR VACIO\n",
            "14          2302  RESIDUOS Y DESPERDICIOS DE LAS INDUSTRIAS ALIM...\n"
          ]
        }
      ]
    },
    {
      "cell_type": "code",
      "source": [
        "conn = sqlite3.connect('camiones.db')\n",
        "\n",
        "conn.execute('DROP TABLE IF EXISTS camiones;')\n",
        "\n",
        "conn.execute('''\n",
        "    CREATE TABLE camiones (\n",
        "        EMPRESA_TRANSPORTE INT,\n",
        "        PLACA TEXT PRIMARY KEY,\n",
        "        CONFIGURACION TEXT,\n",
        "        CONDUCTOR INT,\n",
        "        GPS INT\n",
        "    )\n",
        "''')\n",
        "\n",
        "df_camiones = df[['EMPRESA_TRANSPORTE', 'PLACA', 'CONFIGURACION', 'CONDUCTOR', 'GPS']]\n",
        "df_camiones_unique = df_camiones.drop_duplicates(subset='PLACA')\n",
        "df_camiones_unique.to_sql('camiones', conn, if_exists='append', index=False)\n",
        "\n",
        "\n",
        "conn.commit()\n",
        "conn.close()"
      ],
      "metadata": {
        "id": "9q1m4cjziyL5"
      },
      "execution_count": 26,
      "outputs": []
    },
    {
      "cell_type": "code",
      "source": [
        "conn = sqlite3.connect('camiones.db')\n",
        "\n",
        "cursor = conn.cursor()\n",
        "\n",
        "cursor.execute('''\n",
        "select * from camiones\n",
        "limit 10;''')\n",
        "\n",
        "result = cursor.fetchall()\n",
        "\n",
        "for row in result:\n",
        "    print(row)\n",
        "\n",
        "conn.commit()\n",
        "conn.close()"
      ],
      "metadata": {
        "colab": {
          "base_uri": "https://localhost:8080/"
        },
        "id": "s_wMdlAJSu35",
        "outputId": "4e6694b7-205f-4fd9-b82c-6832e2e9ea01"
      },
      "execution_count": 30,
      "outputs": [
        {
          "output_type": "stream",
          "name": "stdout",
          "text": [
            "(2148, '1400733', '2S2', 45, 0)\n",
            "(2213, '91057', '3S3', 58, 0)\n",
            "(2235, '1488863', '2', 106, 0)\n",
            "(2154, '1190432', '2', 112, 0)\n",
            "(1301, '220947', '3S3', 301, 0)\n",
            "(297, '129929', '3S2', 304, 0)\n",
            "(92975, '1017543', '2S3', 335, 0)\n",
            "(391, '264017', '2', 1148, 0)\n",
            "(1543, '217175', '3S3', 1191, 0)\n",
            "(1012, '1535368', '3S3', 1215, 0)\n"
          ]
        }
      ]
    },
    {
      "cell_type": "code",
      "source": [
        "conn = sqlite3.connect('camiones.db')\n",
        "conn.execute('''\n",
        "    update camiones\n",
        "    set GPS = 1\n",
        "    where PLACA = '133722'\n",
        "''')\n",
        "\n",
        "conn.commit()\n",
        "\n",
        "cursor = conn.execute('select PLACA,GPS from camiones where PLACA = \"133722\";')\n",
        "for row in cursor:\n",
        "    print(row)\n",
        "\n",
        "conn.close()"
      ],
      "metadata": {
        "colab": {
          "base_uri": "https://localhost:8080/"
        },
        "id": "JPsc-ImXTUGI",
        "outputId": "072436b5-41f5-4fae-8fe3-f480928a9609"
      },
      "execution_count": 28,
      "outputs": [
        {
          "output_type": "stream",
          "name": "stdout",
          "text": [
            "('133722', 1)\n"
          ]
        }
      ]
    },
    {
      "cell_type": "code",
      "source": [
        "conn = sqlite3.connect('camiones.db')\n",
        "\n",
        "conn.execute('''\n",
        "    delete from camiones\n",
        "    where PLACA = '133722'\n",
        "''')\n",
        "\n",
        "conn.commit()\n",
        "\n",
        "cursor = conn.execute('select PLACA from camiones where PLACA = \"133722\";')\n",
        "if cursor.fetchone() is None:\n",
        "    print(\"Se ha borrado la fila.\")\n",
        "else:\n",
        "    print(\"La fila aun existe.\")\n",
        "\n",
        "conn.close()"
      ],
      "metadata": {
        "colab": {
          "base_uri": "https://localhost:8080/"
        },
        "id": "j-poiIoRUIyH",
        "outputId": "3c7892b2-215a-45d6-abef-48fd8b6e5c58"
      },
      "execution_count": 29,
      "outputs": [
        {
          "output_type": "stream",
          "name": "stdout",
          "text": [
            "Se ha borrado la fila.\n"
          ]
        }
      ]
    },
    {
      "cell_type": "code",
      "source": [
        "from google.colab import files\n",
        "conn = sqlite3.connect('camiones.db')\n",
        "\n",
        "conn.close()\n",
        "\n",
        "files.download('camiones.db')"
      ],
      "metadata": {
        "colab": {
          "base_uri": "https://localhost:8080/",
          "height": 17
        },
        "id": "cpz1NdiZXgwX",
        "outputId": "6efd54ae-e4db-4c03-8e5f-52b95349f83f"
      },
      "execution_count": 31,
      "outputs": [
        {
          "output_type": "display_data",
          "data": {
            "text/plain": [
              "<IPython.core.display.Javascript object>"
            ],
            "application/javascript": [
              "\n",
              "    async function download(id, filename, size) {\n",
              "      if (!google.colab.kernel.accessAllowed) {\n",
              "        return;\n",
              "      }\n",
              "      const div = document.createElement('div');\n",
              "      const label = document.createElement('label');\n",
              "      label.textContent = `Downloading \"${filename}\": `;\n",
              "      div.appendChild(label);\n",
              "      const progress = document.createElement('progress');\n",
              "      progress.max = size;\n",
              "      div.appendChild(progress);\n",
              "      document.body.appendChild(div);\n",
              "\n",
              "      const buffers = [];\n",
              "      let downloaded = 0;\n",
              "\n",
              "      const channel = await google.colab.kernel.comms.open(id);\n",
              "      // Send a message to notify the kernel that we're ready.\n",
              "      channel.send({})\n",
              "\n",
              "      for await (const message of channel.messages) {\n",
              "        // Send a message to notify the kernel that we're ready.\n",
              "        channel.send({})\n",
              "        if (message.buffers) {\n",
              "          for (const buffer of message.buffers) {\n",
              "            buffers.push(buffer);\n",
              "            downloaded += buffer.byteLength;\n",
              "            progress.value = downloaded;\n",
              "          }\n",
              "        }\n",
              "      }\n",
              "      const blob = new Blob(buffers, {type: 'application/binary'});\n",
              "      const a = document.createElement('a');\n",
              "      a.href = window.URL.createObjectURL(blob);\n",
              "      a.download = filename;\n",
              "      div.appendChild(a);\n",
              "      a.click();\n",
              "      div.remove();\n",
              "    }\n",
              "  "
            ]
          },
          "metadata": {}
        },
        {
          "output_type": "display_data",
          "data": {
            "text/plain": [
              "<IPython.core.display.Javascript object>"
            ],
            "application/javascript": [
              "download(\"download_3e380b7a-be47-46b7-a931-7c0189ce1af1\", \"camiones.db\", 169017344)"
            ]
          },
          "metadata": {}
        }
      ]
    },
    {
      "cell_type": "code",
      "source": [
        "conn = sqlite3.connect('camiones.db')\n",
        "\n",
        "with open('camiones_dump.sql', 'w') as f:\n",
        "    for line in conn.iterdump():\n",
        "        f.write('%s\\n' % line)\n",
        "\n",
        "conn.close()\n",
        "\n",
        "from google.colab import files\n",
        "files.download('camiones_dump.sql')"
      ],
      "metadata": {
        "colab": {
          "base_uri": "https://localhost:8080/",
          "height": 17
        },
        "id": "W6hrSME-dhcS",
        "outputId": "af2f0729-5467-4698-8aad-80c28a1d458f"
      },
      "execution_count": 32,
      "outputs": [
        {
          "output_type": "display_data",
          "data": {
            "text/plain": [
              "<IPython.core.display.Javascript object>"
            ],
            "application/javascript": [
              "\n",
              "    async function download(id, filename, size) {\n",
              "      if (!google.colab.kernel.accessAllowed) {\n",
              "        return;\n",
              "      }\n",
              "      const div = document.createElement('div');\n",
              "      const label = document.createElement('label');\n",
              "      label.textContent = `Downloading \"${filename}\": `;\n",
              "      div.appendChild(label);\n",
              "      const progress = document.createElement('progress');\n",
              "      progress.max = size;\n",
              "      div.appendChild(progress);\n",
              "      document.body.appendChild(div);\n",
              "\n",
              "      const buffers = [];\n",
              "      let downloaded = 0;\n",
              "\n",
              "      const channel = await google.colab.kernel.comms.open(id);\n",
              "      // Send a message to notify the kernel that we're ready.\n",
              "      channel.send({})\n",
              "\n",
              "      for await (const message of channel.messages) {\n",
              "        // Send a message to notify the kernel that we're ready.\n",
              "        channel.send({})\n",
              "        if (message.buffers) {\n",
              "          for (const buffer of message.buffers) {\n",
              "            buffers.push(buffer);\n",
              "            downloaded += buffer.byteLength;\n",
              "            progress.value = downloaded;\n",
              "          }\n",
              "        }\n",
              "      }\n",
              "      const blob = new Blob(buffers, {type: 'application/binary'});\n",
              "      const a = document.createElement('a');\n",
              "      a.href = window.URL.createObjectURL(blob);\n",
              "      a.download = filename;\n",
              "      div.appendChild(a);\n",
              "      a.click();\n",
              "      div.remove();\n",
              "    }\n",
              "  "
            ]
          },
          "metadata": {}
        },
        {
          "output_type": "display_data",
          "data": {
            "text/plain": [
              "<IPython.core.display.Javascript object>"
            ],
            "application/javascript": [
              "download(\"download_8e24877a-e734-4cbc-bc8f-9ea5be9ac756\", \"camiones_dump.sql\", 206052244)"
            ]
          },
          "metadata": {}
        }
      ]
    }
  ]
}